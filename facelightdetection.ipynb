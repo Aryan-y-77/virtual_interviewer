{
  "nbformat": 4,
  "nbformat_minor": 0,
  "metadata": {
    "colab": {
      "provenance": []
    },
    "kernelspec": {
      "name": "python3",
      "display_name": "Python 3"
    },
    "language_info": {
      "name": "python"
    }
  },
  "cells": [
    {
      "cell_type": "code",
      "execution_count": 2,
      "metadata": {
        "id": "5Neyz9r-uAuC"
      },
      "outputs": [],
      "source": [
        "import cv2\n",
        "import numpy as np\n",
        "\n",
        "\n",
        "def is_proper_lighting(face_region):\n",
        "\n",
        "    gray_face = cv2.cvtColor(face_region, cv2.COLOR_BGR2GRAY)\n",
        "\n",
        "\n",
        "    avg_brightness = np.mean(gray_face) # mean\n",
        "\n",
        "    # Define a threshold for proper lighting (you can adjust this value)\n",
        "    threshold = 100\n",
        "\n",
        "    return avg_brightness > threshold\n",
        "\n",
        "\n",
        "# Load the Haar Cascade for face detection\n",
        "face_cascade = cv2.CascadeClassifier(cv2.data.haarcascades + 'haarcascade_frontalface_default.xml')\n",
        "\n",
        "# Open the webcam (or use a video file)\n",
        "cap = cv2.VideoCapture(0)\n",
        "\n",
        "while True:\n",
        "    # Read a frame from the webcam\n",
        "    ret, frame = cap.read()\n",
        "\n",
        "    if not ret:\n",
        "        break\n",
        "\n",
        "    # Convert the frame to grayscale\n",
        "    gray = cv2.cvtColor(frame, cv2.COLOR_BGR2GRAY)\n",
        "\n",
        "    # Detect faces in the frame\n",
        "    faces = face_cascade.detectMultiScale(gray, scaleFactor=1.1, minNeighbors=5, minSize=(30, 30))\n",
        "\n",
        "    for (x, y, w, h) in faces:\n",
        "        # Extract the face region\n",
        "        face_region = frame[y:y + h, x:x + w]\n",
        "\n",
        "        # Check if the face has proper lighting\n",
        "        if is_proper_lighting(face_region):\n",
        "            color = (0, 255, 0)  # Green for proper lighting\n",
        "            label = \"Proper Lighting\"\n",
        "        else:\n",
        "            color = (0, 0, 255)  # Red for improper lighting\n",
        "            label = \"Improper Lighting\"\n",
        "\n",
        "        # Draw a rectangle around the face and add the label\n",
        "        cv2.rectangle(frame, (x, y), (x + w, y + h), color, 2)\n",
        "        cv2.putText(frame, label, (x, y - 10), cv2.FONT_HERSHEY_SIMPLEX, 0.9, color, 2)\n",
        "\n",
        "    # Display the frame\n",
        "    cv2.imshow('Face Lighting Check', frame)\n",
        "\n",
        "    # Break the loop if 'q' is pressed\n",
        "    if cv2.waitKey(1) & 0xFF == ord('q'):\n",
        "        break\n",
        "\n",
        "# Release the webcam and close all windows\n",
        "cap.release()\n",
        "cv2.destroyAllWindows()\n"
      ]
    },
    {
      "cell_type": "code",
      "source": [],
      "metadata": {
        "id": "Q07Df7qIuZ1D"
      },
      "execution_count": null,
      "outputs": []
    }
  ]
}